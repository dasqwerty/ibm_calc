{
 "cells": [
  {
   "cell_type": "markdown",
   "metadata": {},
   "source": [
    "<center>\n",
    "    <img src=\"https://s3-api.us-geo.objectstorage.softlayer.net/cf-courses-data/CognitiveClass/Logos/organization_logo/organization_logo.png\" width=\"300\" alt=\"cognitiveclass.ai logo\"  />\n",
    "</center>\n"
   ]
  },
  {
   "cell_type": "markdown",
   "metadata": {},
   "source": [
    "#### Add your code below following the instructions given in the course\n"
   ]
  },
  {
   "cell_type": "markdown",
   "metadata": {},
   "source": [
    "<a href=\"https://dataplatform.cloud.ibm.com/gallery\">IBM Cloud Gallery</a>"
   ]
  },
  {
   "cell_type": "markdown",
   "metadata": {},
   "source": [
    "# My Jupyter Notebook on IBM Watson Studio"
   ]
  },
  {
   "cell_type": "markdown",
   "metadata": {},
   "source": [
    "**Soham Mukhopadhyay**\n",
    "\n",
    "Student"
   ]
  },
  {
   "cell_type": "markdown",
   "metadata": {},
   "source": [
    "*I am interested in data science as understanding datasets will help me satiate my curiosity about the world. Additionally, data science offers many rewarding career options as well.*"
   ]
  },
  {
   "cell_type": "markdown",
   "metadata": {},
   "source": [
    "### The following program reads two integers and an operator from the user, and outputs the appropriate result."
   ]
  },
  {
   "cell_type": "code",
   "execution_count": 10,
   "metadata": {},
   "outputs": [
    {
     "name": "stdin",
     "output_type": "stream",
     "text": [
      "Enter two operands:\n",
      " 2\n",
      " 3\n",
      "Enter the operator:\n",
      " *\n"
     ]
    },
    {
     "name": "stdout",
     "output_type": "stream",
     "text": [
      "The answer is 2 × 3 = 6\n"
     ]
    }
   ],
   "source": [
    "n1, n2 = int(input(\"Enter two operands:\\n\")), int(input())\n",
    "o = input(\"Enter the operator:\\n\")\n",
    "\n",
    "if o == \"+\":\n",
    "    print(\"The answer is\", n1, \"+\", n2, \"=\", n1 + n2)\n",
    "elif o == \"-\":\n",
    "    print(\"The answer is\", n1, \"−\", n2, \"=\", n1 - n2)\n",
    "elif o == \"*\" or o == \"x\":\n",
    "    print(\"The answer is\", n1, \"×\", n2, \"=\", n1 * n2)\n",
    "elif o == \"/\":\n",
    "    print(\"The answer is\", n1, \"÷\", n2, \"=\", n1 / n2)\n",
    "else:\n",
    "    print(\"Please enter a valid operator\")"
   ]
  },
  {
   "cell_type": "markdown",
   "metadata": {},
   "source": [
    "---\n",
    "Two notable features of the above program are as follows:\n",
    "+ it accepts both positive and negative integers\n",
    "\n",
    "![alt text](https://cdn.discordapp.com/attachments/622848834606858259/997092992668143616/unknown.png \"\")\n",
    "+ it accepts either the asterisk \"\\*\" or the letter ex \"x\" as operators for multiplication\n",
    "\n",
    "![alt text](https://cdn.discordapp.com/attachments/622848834606858259/997092992999501874/unknown.png \"\")\n",
    "![alt text](https://cdn.discordapp.com/attachments/622848834606858259/997092993297293352/unknown.png \"\")"
   ]
  },
  {
   "cell_type": "code",
   "execution_count": null,
   "metadata": {},
   "outputs": [],
   "source": []
  }
 ],
 "metadata": {
  "kernelspec": {
   "display_name": "Python",
   "language": "python",
   "name": "conda-env-python-py"
  },
  "language_info": {
   "codemirror_mode": {
    "name": "ipython",
    "version": 3
   },
   "file_extension": ".py",
   "mimetype": "text/x-python",
   "name": "python",
   "nbconvert_exporter": "python",
   "pygments_lexer": "ipython3",
   "version": "3.7.12"
  }
 },
 "nbformat": 4,
 "nbformat_minor": 4
}
